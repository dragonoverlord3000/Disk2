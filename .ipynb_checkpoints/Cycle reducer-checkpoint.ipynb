{
 "cells": [
  {
   "cell_type": "code",
   "execution_count": 2,
   "id": "f7e21404",
   "metadata": {},
   "outputs": [
    {
     "name": "stdout",
     "output_type": "stream",
     "text": [
      "r: [[1, 3, 5, 7], [2, 4, 6, 8]]\n",
      "r²: [[1, 5], [2, 6], [3, 7], [4, 8]]\n",
      "r³: [[1, 7, 5, 3], [2, 8, 6, 4]]\n",
      "r³: 5\n",
      "s: [[1, 8], [2, 7], [3, 6], [4, 5]]\n",
      "rs: [[1, 2], [3, 8], [4, 7], [5, 6]]\n",
      "r²s: [[1, 4], [2, 3], [5, 8], [6, 7]]\n",
      "r³s: [[1, 6], [2, 5], [3, 4], [7, 8]]\n"
     ]
    }
   ],
   "source": [
    "from typing import List\n",
    "import time\n",
    "\n",
    "# Compute cycles(i)\n",
    "def cycle_compute_i(cycle_list:List[List], i:int):\n",
    "    temp = i\n",
    "    for cycle in reversed(cycle_list):\n",
    "        if temp in cycle:\n",
    "            temp = cycle[(cycle.index(temp) + 1) % len(cycle)]\n",
    "    return temp\n",
    "            \n",
    "# Reduce cycle\n",
    "def cycle_reduce(cycle_list:List[List]):\n",
    "    # Assume all numbers from 1:max_num are valid\n",
    "    max_num = max([val for cycle in cycle_list for val in cycle])\n",
    "    \n",
    "    remaining_l = [i for i in range(2, max_num + 1)][::-1]\n",
    "    ret_l = [[1]]\n",
    "\n",
    "    res_i = 1\n",
    "    start_time = time.time()\n",
    "    while (len(remaining_l) > 0) and (time.time() - start_time) < 1:\n",
    "        flat_ret_l = [val for cycle in ret_l for val in cycle]\n",
    "        new_res_i = cycle_compute_i(cycle_list, res_i)\n",
    "        if new_res_i in flat_ret_l:\n",
    "            res_i = remaining_l.pop()\n",
    "            ret_l.append([res_i])\n",
    "            continue\n",
    "\n",
    "        if not res_i in flat_ret_l:\n",
    "            ret_l.append([res_i])\n",
    "            remaining_l.remove(res_i)\n",
    "\n",
    "        # Append to ret_l the next\n",
    "        for i in range(len(ret_l)):\n",
    "            if ret_l[i][-1] == res_i:\n",
    "                res_i = new_res_i\n",
    "                if not res_i in flat_ret_l:\n",
    "                    remaining_l.remove(res_i)\n",
    "                    ret_l[i].append(res_i)\n",
    "                break\n",
    "\n",
    "    return ret_l\n",
    "\n",
    "\n",
    "# test + syntax\n",
    "# print(cycle_reduce([(1,3,5,7),(2,4,6,8),(1,8),(2,7),(3,6),(4,5)]))\n",
    "# print(cycle_reduce([(1,2),(1,2,3)]))\n",
    "\n",
    "# Question 1.1)\n",
    "phi_r = [(1,3,5,7),(2,4,6,8)]\n",
    "phi_s = [(1,8),(2,7),(3,6),(4,5)]\n",
    "\n",
    "print(f\"r: {cycle_reduce(phi_r)}\")\n",
    "print(f\"r²: {cycle_reduce(2*phi_r)}\")\n",
    "print(f\"r³: {cycle_reduce(3*phi_r)}\")\n",
    "print(f\"r³: {cycle_compute_i(3*phi_r,7)}\")\n",
    "print(f\"s: {cycle_reduce(phi_s)}\")\n",
    "print(f\"rs: {cycle_reduce(phi_r + phi_s)}\")\n",
    "print(f\"r²s: {cycle_reduce(2*phi_r + phi_s)}\")\n",
    "print(f\"r³s: {cycle_reduce(3*phi_r + phi_s)}\")"
   ]
  },
  {
   "cell_type": "code",
   "execution_count": null,
   "id": "1e5bc6d4",
   "metadata": {},
   "outputs": [],
   "source": []
  },
  {
   "cell_type": "code",
   "execution_count": null,
   "id": "5e56f1dd",
   "metadata": {},
   "outputs": [],
   "source": []
  },
  {
   "cell_type": "code",
   "execution_count": null,
   "id": "441c73ac",
   "metadata": {},
   "outputs": [],
   "source": []
  },
  {
   "cell_type": "code",
   "execution_count": null,
   "id": "455e99b5",
   "metadata": {},
   "outputs": [],
   "source": []
  },
  {
   "cell_type": "code",
   "execution_count": null,
   "id": "deeadd7d",
   "metadata": {},
   "outputs": [],
   "source": []
  },
  {
   "cell_type": "code",
   "execution_count": null,
   "id": "7d23fb8a",
   "metadata": {},
   "outputs": [],
   "source": []
  }
 ],
 "metadata": {
  "kernelspec": {
   "display_name": "Python 3 (ipykernel)",
   "language": "python",
   "name": "python3"
  },
  "language_info": {
   "codemirror_mode": {
    "name": "ipython",
    "version": 3
   },
   "file_extension": ".py",
   "mimetype": "text/x-python",
   "name": "python",
   "nbconvert_exporter": "python",
   "pygments_lexer": "ipython3",
   "version": "3.10.6"
  }
 },
 "nbformat": 4,
 "nbformat_minor": 5
}
