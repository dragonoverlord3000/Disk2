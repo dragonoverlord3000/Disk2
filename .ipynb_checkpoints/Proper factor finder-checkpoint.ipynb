{
 "cells": [
  {
   "cell_type": "code",
   "execution_count": 1,
   "id": "e024748f",
   "metadata": {},
   "outputs": [],
   "source": [
    "import sympy as sp\n",
    "import itertools\n",
    "import time\n",
    "\n",
    "from IPython.display import display"
   ]
  },
  {
   "cell_type": "markdown",
   "id": "ef307ed4",
   "metadata": {},
   "source": [
    "This jupyter notebook finds all zero divisors of $\\mathbb{F}_n / \\langle f(x) \\rangle$ for some $f(x) \\in \\mathbb{F}_n[x]$"
   ]
  },
  {
   "cell_type": "code",
   "execution_count": 2,
   "id": "bbd41eff",
   "metadata": {},
   "outputs": [],
   "source": [
    "# The ring we're working with Zn\n",
    "n = 5\n",
    "# The degree of f(x)\n",
    "degree = 4\n",
    "\n",
    "# If f(x) = x^4 + x^3 + 0x^2 + x + 2\n",
    "coeff_list = [1,1,0,1,2]"
   ]
  },
  {
   "cell_type": "code",
   "execution_count": 3,
   "id": "dbed15fe",
   "metadata": {
    "scrolled": true
   },
   "outputs": [
    {
     "data": {
      "text/plain": [
       "[0, 1, 2, 3, 4]"
      ]
     },
     "execution_count": 3,
     "metadata": {},
     "output_type": "execute_result"
    }
   ],
   "source": [
    "l = [i for i in range(n)]\n",
    "l"
   ]
  },
  {
   "cell_type": "code",
   "execution_count": 4,
   "id": "406b8a7a",
   "metadata": {},
   "outputs": [],
   "source": [
    "x = sp.Symbol(\"x\")"
   ]
  },
  {
   "cell_type": "code",
   "execution_count": 5,
   "id": "6baca2c9",
   "metadata": {
    "scrolled": true
   },
   "outputs": [
    {
     "name": "stdout",
     "output_type": "stream",
     "text": [
      "\n",
      "\n",
      "\t--- Solution found! [coeffs=[1, 1, 0, 1, 2]] & [time=0.28221 s]\n"
     ]
    },
    {
     "data": {
      "text/latex": [
       "$\\displaystyle x + 4$"
      ],
      "text/plain": [
       "x + 4"
      ]
     },
     "metadata": {},
     "output_type": "display_data"
    },
    {
     "data": {
      "text/latex": [
       "$\\displaystyle x^{3} + 2 x^{2} + 2 x + 3$"
      ],
      "text/plain": [
       "x**3 + 2*x**2 + 2*x + 3"
      ]
     },
     "metadata": {},
     "output_type": "display_data"
    },
    {
     "name": "stdout",
     "output_type": "stream",
     "text": [
      "\n",
      "\n",
      "\t--- Solution found! [coeffs=[1, 1, 0, 1, 2]] & [time=0.61281 s]\n"
     ]
    },
    {
     "data": {
      "text/latex": [
       "$\\displaystyle 2 x + 3$"
      ],
      "text/plain": [
       "2*x + 3"
      ]
     },
     "metadata": {},
     "output_type": "display_data"
    },
    {
     "data": {
      "text/latex": [
       "$\\displaystyle 3 x^{3} + x^{2} + x + 4$"
      ],
      "text/plain": [
       "3*x**3 + x**2 + x + 4"
      ]
     },
     "metadata": {},
     "output_type": "display_data"
    },
    {
     "name": "stdout",
     "output_type": "stream",
     "text": [
      "\n",
      "\n",
      "\t--- Solution found! [coeffs=[1, 1, 0, 1, 2]] & [time=0.75269 s]\n"
     ]
    },
    {
     "data": {
      "text/latex": [
       "$\\displaystyle 3 x + 2$"
      ],
      "text/plain": [
       "3*x + 2"
      ]
     },
     "metadata": {},
     "output_type": "display_data"
    },
    {
     "data": {
      "text/latex": [
       "$\\displaystyle 2 x^{3} + 4 x^{2} + 4 x + 1$"
      ],
      "text/plain": [
       "2*x**3 + 4*x**2 + 4*x + 1"
      ]
     },
     "metadata": {},
     "output_type": "display_data"
    },
    {
     "name": "stdout",
     "output_type": "stream",
     "text": [
      "\n",
      "\n",
      "\t--- Solution found! [coeffs=[1, 1, 0, 1, 2]] & [time=0.9056 s]\n"
     ]
    },
    {
     "data": {
      "text/latex": [
       "$\\displaystyle 4 x + 1$"
      ],
      "text/plain": [
       "4*x + 1"
      ]
     },
     "metadata": {},
     "output_type": "display_data"
    },
    {
     "data": {
      "text/latex": [
       "$\\displaystyle 4 x^{3} + 3 x^{2} + 3 x + 2$"
      ],
      "text/plain": [
       "4*x**3 + 3*x**2 + 3*x + 2"
      ]
     },
     "metadata": {},
     "output_type": "display_data"
    },
    {
     "name": "stdout",
     "output_type": "stream",
     "text": [
      "\n",
      "DONE!\n"
     ]
    }
   ],
   "source": [
    "start_time = time.time()\n",
    "\n",
    "sol_list = []\n",
    "\n",
    "for i, iter_coeffs in enumerate(itertools.product(*[l for _ in range(degree)])):\n",
    "    poly_1 = sp.Poly.from_list(list(iter_coeffs),x)\n",
    "    for iter_coeffs in itertools.product(*[l for _ in range(degree)]):\n",
    "        poly_2 = sp.Poly.from_list(list(iter_coeffs),x)            \n",
    "        poly = poly_1 * poly_2\n",
    "\n",
    "        coeffs = [coeff % n for coeff in poly.all_coeffs()]\n",
    "        if (coeffs == coeff_list and ((poly_1.all_coeffs() not in sol_list) or (poly_2.all_coeffs() not in sol_list))):\n",
    "            sol_list.append(poly_1.all_coeffs())\n",
    "            sol_list.append(poly_2.all_coeffs())\n",
    "            print(f\"\\n\\n\\t--- Solution found! [coeffs={coeffs}] & [time={round((time.time() - start_time) * 1e+5)/1e+5} s]\")\n",
    "            display(poly_1.as_expr())\n",
    "            display(poly_2.as_expr())      \n",
    "print(\"\\nDONE!\")"
   ]
  },
  {
   "cell_type": "code",
   "execution_count": null,
   "id": "790de4e6",
   "metadata": {},
   "outputs": [],
   "source": []
  }
 ],
 "metadata": {
  "kernelspec": {
   "display_name": "Python 3 (ipykernel)",
   "language": "python",
   "name": "python3"
  },
  "language_info": {
   "codemirror_mode": {
    "name": "ipython",
    "version": 3
   },
   "file_extension": ".py",
   "mimetype": "text/x-python",
   "name": "python",
   "nbconvert_exporter": "python",
   "pygments_lexer": "ipython3",
   "version": "3.10.6"
  }
 },
 "nbformat": 4,
 "nbformat_minor": 5
}
